{
 "cells": [
  {
   "cell_type": "code",
   "execution_count": 2,
   "metadata": {
    "ExecuteTime": {
     "end_time": "2022-03-06T01:16:09.956706Z",
     "start_time": "2022-03-06T01:16:09.950721Z"
    }
   },
   "outputs": [],
   "source": [
    "import pandas as pd\n",
    "import numpy as np\n",
    "from numpy import save\n",
    "%matplotlib inline"
   ]
  },
  {
   "cell_type": "markdown",
   "metadata": {},
   "source": [
    "# C | Module Test"
   ]
  },
  {
   "cell_type": "markdown",
   "metadata": {},
   "source": [
    "<!-- BEGIN QUESTION -->\n",
    "\n",
    "## Part I&nbsp;&nbsp;&nbsp;&nbsp;&nbsp;&nbsp;(10 Points)"
   ]
  },
  {
   "cell_type": "code",
   "execution_count": null,
   "metadata": {},
   "outputs": [],
   "source": [
    "Write Python code to read these files and create a new file named Summaries.txt that contains:\n",
    "\n",
    "The title of the first book\n",
    "A blank line\n",
    "The first book's summary (from the Text file)\n",
    "4 more blank lines\n",
    "The title of the second book\n",
    "A blank line\n",
    "The second book's summary (from the Text file)"
   ]
  },
  {
   "cell_type": "code",
   "execution_count": 23,
   "metadata": {
    "ExecuteTime": {
     "start_time": "2022-03-06T09:10:36.341Z"
    },
    "tags": []
   },
   "outputs": [],
   "source": [
    "# Write your solution here\n",
    "o2=\"Alice in Wonderland \"\n",
    "fd1=open('Summaries.txt','w+')\n",
    "\n",
    "\n",
    "\n",
    "fd1.write(o2)\n",
    "fd1.close()\n",
    "\n",
    "fd1=open('Summaries.txt','a')\n",
    "o1=\"\\n\"\n",
    "fd1.write(o1)\n",
    "fd1.close()\n",
    "\n",
    "fd1=open('Summaries.txt','a')\n",
    "\n",
    "fd2=open('Alice.txt','r')\n",
    "\n",
    "\n",
    "o1=fd2.read()\n",
    "\n",
    "fd1.write(o1)\n",
    "fd1.close()\n",
    "fd2.close()\n",
    "\n",
    "\n",
    "o1=\"\"\n",
    "for i in range(4):\n",
    "    o1+= \"\\n\"\n",
    "\n",
    "\n",
    "fd1=open('Summaries.txt','a')\n",
    "fd1.write(o1)\n",
    "\n",
    "fd1.close()\n",
    "title2=\"The Wizard of Oz respectively \\n\"\n",
    "fd1=open('Summaries.txt','a')\n",
    "fd1.write(title2)\n",
    "fd1.close()\n",
    "fd1=open('Summaries.txt','a')\n",
    "fd3=open('Oz.txt','r')\n",
    "o1=fd3.read()\n",
    "\n",
    "fd1.write(o1)\n",
    "\n",
    "fd1.close()\n",
    "fd2.close()\n",
    "fd3.close()\n"
   ]
  },
  {
   "cell_type": "markdown",
   "metadata": {},
   "source": [
    "<!-- END QUESTION -->\n",
    "\n",
    "<!-- BEGIN QUESTION -->\n",
    "\n",
    "## Part II&nbsp;&nbsp;&nbsp;&nbsp;&nbsp;&nbsp;(15 Points)"
   ]
  },
  {
   "cell_type": "code",
   "execution_count": null,
   "metadata": {},
   "outputs": [],
   "source": [
    "Write Python code to perform the tasks below.\n",
    "The final result must be stored in a numpy array named result_arr. The original arrays must be unchanged. \n",
    "\n",
    "Slice arr1 along the first axis to the given specifications: \n",
    "start index = 2 \n",
    "end index = end of array \n",
    "Slice arr3 with the given specifications:\n",
    "axis 1 :\n",
    "start index = start of array\n",
    "end index = 6\n",
    "step = 2\n",
    "axis 2 :\n",
    "start index = 11\n",
    "end index = 1\n",
    "step = -2\n",
    "Perform the following operation with the sliced arrays\n",
    "arr1 + 10 * arr3 – arr2 "
   ]
  },
  {
   "cell_type": "code",
   "execution_count": 36,
   "metadata": {
    "tags": []
   },
   "outputs": [
    {
     "name": "stdout",
     "output_type": "stream",
     "text": [
      "[[  23.52908269   36.10089456   88.94097685    5.9257395    20.481093  ]\n",
      " [  95.16821953   33.42943883  -10.62435599  -36.6559974   -42.68828775]\n",
      " [  90.73589962    9.11902443  -13.08276375 -252.19369149 -560.47003634]]\n"
     ]
    }
   ],
   "source": [
    "import numpy as np\n",
    "\n",
    "file=np.load('./numpy_arrays.npz')\n",
    "arr1,arr2,arr3=file.files\n",
    "arr1,arr2,arr3=file[arr1],file[arr2],file[arr3]\n",
    "result_arr=None\n",
    "# Write your solution here\n",
    "\n",
    "result_arr1=arr1[2:]\n",
    "\n",
    "result_arr3=arr3[:6:2,11:1:-2]\n",
    "\n",
    "arr4= np.multiply(result_arr3,10)\n",
    "\n",
    "result_arr=np.add(result_arr1,arr4)\n",
    "result_arr =np.subtract(result_arr,arr2)\n",
    "print(result_arr)"
   ]
  },
  {
   "cell_type": "markdown",
   "metadata": {},
   "source": [
    "<!-- END QUESTION -->\n",
    "\n",
    "<!-- BEGIN QUESTION -->\n",
    "\n",
    "## Part III&nbsp;&nbsp;&nbsp;&nbsp;&nbsp;&nbsp;(25 Points)"
   ]
  },
  {
   "cell_type": "code",
   "execution_count": 37,
   "metadata": {},
   "outputs": [
    {
     "ename": "SyntaxError",
     "evalue": "invalid syntax (Temp/ipykernel_38792/556507763.py, line 1)",
     "output_type": "error",
     "traceback": [
      "\u001b[1;36m  File \u001b[1;32m\"C:\\Users\\brao\\AppData\\Local\\Temp/ipykernel_38792/556507763.py\"\u001b[1;36m, line \u001b[1;32m1\u001b[0m\n\u001b[1;33m    You have been provided with a csv file cars.csv  Download cars.csvcontaining details of over 400 cars with ; used as the separator.\u001b[0m\n\u001b[1;37m        ^\u001b[0m\n\u001b[1;31mSyntaxError\u001b[0m\u001b[1;31m:\u001b[0m invalid syntax\n"
     ]
    }
   ],
   "source": [
    "You have been provided with a csv file cars.csv  Download cars.csvcontaining details of over 400 cars with ; \n",
    "used as the separator.\n",
    "\n",
    "Read the file into a pandas dataframe and answer the following questions by creating the corresponding variables:\n",
    "\n",
    "Find all American car models manufactured between 80 and 81 with 6 Cylinders: name the dataframe df_q1\n",
    "Find the value counts for different cylinder configuration used in cars: name the series ps_q2\n",
    "Find Japanese cars with Horsepower greater than 100 and a fuel economy >= 25 MPG : name the dataframe df_q3\n",
    "Create a new Pandas Series with all car names. Replace the index of the series with the sum of weight and displacement for each car: name the series ps_q3  "
   ]
  },
  {
   "cell_type": "code",
   "execution_count": 75,
   "metadata": {
    "ExecuteTime": {
     "start_time": "2022-03-06T09:13:57.500Z"
    },
    "tags": []
   },
   "outputs": [
    {
     "name": "stdout",
     "output_type": "stream",
     "text": [
      "                         Car   MPG  Cylinders  Displacement  Horsepower  Weight  Acceleration  Model Origin\n",
      "0  Chevrolet Chevelle Malibu  18.0          8         307.0       130.0  3504.0          12.0     70     US\n",
      "1          Buick Skylark 320  15.0          8         350.0       165.0  3693.0          11.5     70     US\n",
      "2         Plymouth Satellite  18.0          8         318.0       150.0  3436.0          11.0     70     US\n",
      "3              AMC Rebel SST  16.0          8         304.0       150.0  3433.0          12.0     70     US\n",
      "4                Ford Torino  17.0          8         302.0       140.0  3449.0          10.5     70     US\n"
     ]
    }
   ],
   "source": [
    "# Write your solution here\n",
    "import pandas as pd\n",
    "df_q1,df_q3,ps_q2,ps_q4 = None,None,None,None\n",
    "\n",
    "fd=pd.read_csv('cars.csv')\n",
    "\n",
    "print(fd.head())\n",
    "df_q1=fd[['Model','Cylinders']]\n",
    "\n",
    "df_q1=df_q1.loc[(df_q1.Model>=80) & (df_q1.Model<=81) &(df_q1.Cylinders==6)]\n",
    "\n",
    "\n",
    "ps_q2=fd['Cylinders'].value_counts()\n",
    "#print(ps_q2)\n",
    "\n",
    "df_q3=fd.loc[(fd.Horsepower>100) & (fd.MPG>=25)]\n",
    "#print(df_q3)\n",
    "ps_q3=fd['Car']\n",
    "\n",
    "\n"
   ]
  },
  {
   "cell_type": "markdown",
   "metadata": {},
   "source": [
    "<!-- END QUESTION -->\n",
    "\n",
    "<!-- BEGIN QUESTION -->\n",
    "\n",
    "## Part IV&nbsp;&nbsp;&nbsp;&nbsp;&nbsp;&nbsp;(25 Points)"
   ]
  },
  {
   "cell_type": "code",
   "execution_count": 87,
   "metadata": {},
   "outputs": [
    {
     "name": "stdout",
     "output_type": "stream",
     "text": [
      "rating\n",
      "68.402973                    100% Bran\n",
      "33.983679            100% Natural Bran\n",
      "59.425505                     All-Bran\n",
      "93.704912    All-Bran with Extra Fiber\n",
      "34.384843               Almond Delight\n",
      "                       ...            \n",
      "39.106174                      Triples\n",
      "27.753301                         Trix\n",
      "49.787445                   Wheat Chex\n",
      "51.592193                     Wheaties\n",
      "36.187559          Wheaties Honey Gold\n",
      "Name: name, Length: 77, dtype: object\n"
     ]
    }
   ],
   "source": [
    "# Write your solution here\n",
    "import pandas as pd\n",
    "cereal_ratings=None\n",
    "cereal_ratings=pd.read_json('cereals.json')\n",
    "cereal_ratings=cereal_ratings.set_index('rating')\n",
    "cereal_ratings=cereal_ratings['name']\n",
    "#df1=cereal_ratings.loc[(cereal_ratings.name=='Wheaties') | (cereal_ratings.name=='Triples')| (cereal_ratings.name=='All-Bran') |  (cereal_ratings.name=='Wheat Chex')]\n",
    "\n",
    "print(cereal_ratings)"
   ]
  },
  {
   "cell_type": "markdown",
   "metadata": {},
   "source": [
    "<!-- END QUESTION -->\n",
    "\n"
   ]
  },
  {
   "cell_type": "markdown",
   "metadata": {},
   "source": [
    "<!-- END QUESTION -->\n",
    "\n",
    "<!-- BEGIN QUESTION -->\n",
    "\n",
    "## Part V&nbsp;&nbsp;&nbsp;&nbsp;&nbsp;&nbsp;(20 Points)"
   ]
  },
  {
   "cell_type": "code",
   "execution_count": 5,
   "metadata": {
    "ExecuteTime": {
     "end_time": "2022-03-11T04:54:44.265214Z",
     "start_time": "2022-03-11T04:54:35.904128Z"
    },
    "collapsed": true
   },
   "outputs": [
    {
     "name": "stdout",
     "output_type": "stream",
     "text": [
      "Welcome Guest. Please choose the city where you want to reserve a room\n",
      "1   Melbourne : Cost per day of stay 250 AUD\n",
      "2   Adelaide : Cost per day of stay 230 AUD\n",
      "3   Canberra : Cost per day of stay 250 AUD\n",
      "4   Sydney : Cost per day of stay 320 AUD\n",
      "5   Perth : Cost per day of stay 200 AUD\n",
      "Enter the number corresponding to the city you would like to book5\n",
      "Enter the number of days you would like to book for1\n",
      "You have selected to stay at Perth for 1 days\n",
      "You get a discount\n",
      "Your total cost is 180.0 AUD\n"
     ]
    }
   ],
   "source": [
    "lst1=['Melbourne','Adelaide','Canberra','Sydney','Perth']#List to store city names\n",
    "lst2=[250,230,250,320,200]#List to store cost of \n",
    "print(\"Welcome Guest. Please choose the city where you want to reserve a room\")\n",
    "i=1\n",
    "for city in lst1:\n",
    "    print(i,' ',city,': Cost per day of stay',lst2[i-1],'AUD')\n",
    "    i+=1\n",
    "ip=input('Enter the number corresponding to the city you would like to book')#selected city\n",
    "ip2=input('Enter the number of days you would like to book for')#selcted duration\n",
    "d=0 #discount set to 0 \n",
    "if (int(ip2)>=7):\n",
    "    if (int(ip)!=4):\n",
    "        d=0.05\n",
    "elif (int(ip)==5):\n",
    "    d=0.1\n",
    "else: pass\n",
    "print('You have selected to stay at',lst1[int(ip)-1],'for',ip2,'days')\n",
    "if(d>0):\n",
    "    print(\"You get a discount\")\n",
    "print('Your total cost is',lst2[int(ip)-1]*int(ip2)*(1-d),'AUD')"
   ]
  }
 ],
 "metadata": {
  "celltoolbar": "Edit Metadata",
  "kernelspec": {
   "display_name": "Python 3 (ipykernel)",
   "language": "python",
   "name": "python3"
  },
  "language_info": {
   "codemirror_mode": {
    "name": "ipython",
    "version": 3
   },
   "file_extension": ".py",
   "mimetype": "text/x-python",
   "name": "python",
   "nbconvert_exporter": "python",
   "pygments_lexer": "ipython3",
   "version": "3.9.7"
  },
  "varInspector": {
   "cols": {
    "lenName": 16,
    "lenType": 16,
    "lenVar": 40
   },
   "kernels_config": {
    "python": {
     "delete_cmd_postfix": "",
     "delete_cmd_prefix": "del ",
     "library": "var_list.py",
     "varRefreshCmd": "print(var_dic_list())"
    },
    "r": {
     "delete_cmd_postfix": ") ",
     "delete_cmd_prefix": "rm(",
     "library": "var_list.r",
     "varRefreshCmd": "cat(var_dic_list()) "
    }
   },
   "position": {
    "height": "363.844px",
    "left": "1550px",
    "right": "20px",
    "top": "120px",
    "width": "350px"
   },
   "types_to_exclude": [
    "module",
    "function",
    "builtin_function_or_method",
    "instance",
    "_Feature"
   ],
   "window_display": true
  }
 },
 "nbformat": 4,
 "nbformat_minor": 4
}
